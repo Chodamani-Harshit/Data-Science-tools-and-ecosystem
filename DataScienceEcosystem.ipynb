{
  "metadata": {
    "language_info": {
      "codemirror_mode": {
        "name": "python",
        "version": 3
      },
      "file_extension": ".py",
      "mimetype": "text/x-python",
      "name": "python",
      "nbconvert_exporter": "python",
      "pygments_lexer": "ipython3",
      "version": "3.8"
    },
    "kernelspec": {
      "name": "python",
      "display_name": "Python (Pyodide)",
      "language": "python"
    }
  },
  "nbformat_minor": 4,
  "nbformat": 4,
  "cells": [
    {
      "cell_type": "markdown",
      "source": "# Data Science Tools and Ecosystem",
      "metadata": {}
    },
    {
      "cell_type": "markdown",
      "source": "## In this notebook, Data Science Tools and Ecosystem are summarized.",
      "metadata": {}
    },
    {
      "cell_type": "markdown",
      "source": "## *Objectives:*\n#### . Create Markdown Cells\n#### . Add comments to the code\n#### . Adding ordered and unordered lists into the Markdown cells\n#### . Adding heading styles into Markdown cells",
      "metadata": {}
    },
    {
      "cell_type": "markdown",
      "source": "## Some of the popular languages that Data Scientists use are:\n#### 1.Python\n#### 2.R\n#### 3.SQL\n#### 4.Scala\n#### 5.Java\n#### 6.C++\n#### 7.Julia\n#### 8.Javascript\n#### 9.Php\n#### 10.Go\n#### 11.Ruby\n#### 12.Visual Basic",
      "metadata": {}
    },
    {
      "cell_type": "markdown",
      "source": "## Some of the commonly used libraries used by Data Scientists include:\n#### 1. Pandas\n#### 2. Numpy\n#### 3. Matplotlib\n#### 4. Seaborn\n#### 5. Scikit-learn\n#### 6. Keras\n#### 7. Tensorflow\n#### 8. PyTorch\n#### 9. Apache Spark\n#### 10. Vegas\n#### 11. GGplot2\n#### 12. Bigdl\n\n",
      "metadata": {}
    },
    {
      "cell_type": "markdown",
      "source": "|Data Science Tools|\n|------------------|\n|Jupyter  Notebooks|\n|Apache Zepplin|\n|R Studio|\n|Spyder|\n|VS CODE|\n|Anaconda|\n|Zepplin|\n",
      "metadata": {}
    },
    {
      "cell_type": "markdown",
      "source": "### Below are a few examples of evaluating arithmetic expressions in Python\n",
      "metadata": {}
    },
    {
      "cell_type": "code",
      "source": "(3*4)+5\n#This a simple arithmetic expression to mutiply then add integers\n",
      "metadata": {
        "trusted": true
      },
      "execution_count": 1,
      "outputs": [
        {
          "execution_count": 1,
          "output_type": "execute_result",
          "data": {
            "text/plain": "17"
          },
          "metadata": {}
        }
      ]
    },
    {
      "cell_type": "code",
      "source": "divmod(200,60)\n#this will convert 200 minutes into hours.",
      "metadata": {
        "trusted": true
      },
      "execution_count": 6,
      "outputs": [
        {
          "execution_count": 6,
          "output_type": "execute_result",
          "data": {
            "text/plain": "(3, 20)"
          },
          "metadata": {}
        }
      ]
    },
    {
      "cell_type": "markdown",
      "source": "## *Author(s)*\n#### Lakshmi Holla\n#### Niveditha Pandit\n",
      "metadata": {}
    },
    {
      "cell_type": "code",
      "source": "",
      "metadata": {},
      "execution_count": null,
      "outputs": []
    }
  ]
}