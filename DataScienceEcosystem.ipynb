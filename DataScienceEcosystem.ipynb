{
 "cells": [
  {
   "cell_type": "markdown",
   "id": "38bfe920-02ae-4a1b-a680-f4317d4c38f2",
   "metadata": {},
   "source": [
    "# Data Science Tools and Ecosystem"
   ]
  },
  {
   "cell_type": "markdown",
   "id": "66a316e3-9bd9-49f1-8345-743d41f40955",
   "metadata": {},
   "source": [
    "### In this notebook, Data Science Tools and Ecosystem are summarized."
   ]
  },
  {
   "cell_type": "markdown",
   "id": "10fe3f1d-861b-4338-ab49-0de23d7cffee",
   "metadata": {},
   "source": [
    "## *Objectives:*\n",
    "#### -List popular languages for Data Science\n",
    "#### -commonly used libraries used by Data Scientists include\n",
    "#### -evaluating arithmetic expressions in Python\n",
    "#### -Create a code cell to multiply and add numbers"
   ]
  },
  {
   "cell_type": "markdown",
   "id": "f83d4f66-7837-452e-8d53-93fc51ab60f9",
   "metadata": {},
   "source": [
    "### Some of the popular languages that Data Scientists use are:\n",
    "#### 1.Python\n",
    "#### 2.R\n",
    "#### 3.SQL\n",
    "#### 4.Java"
   ]
  },
  {
   "cell_type": "markdown",
   "id": "8df270a4-2e20-4ef4-b8e7-462fe5eca76f",
   "metadata": {},
   "source": [
    "### Some of the commonly used libraries used by Data Scientists include:\n",
    "#### 1.NumPy\n",
    "#### 2.Keras\n",
    "#### 3.Pandas\n",
    "#### 4.TensorFlow"
   ]
  },
  {
   "cell_type": "markdown",
   "id": "e60cd874-e71c-4cba-a337-d9479a9cb7a3",
   "metadata": {},
   "source": [
    "|Data Science Tools|\n",
    "|------------------|\n",
    "|Jupyter Lab and Notebooks|\n",
    "|Apache Zepplin|\n",
    "|R Studio|\n",
    "|Spyder|\n",
    "|VS CODE|"
   ]
  },
  {
   "cell_type": "markdown",
   "id": "608d2294-2813-476a-9707-536f12fd77b1",
   "metadata": {},
   "source": [
    "### Below are a few examples of evaluating arithmetic expressions in Python"
   ]
  },
  {
   "cell_type": "code",
   "execution_count": 5,
   "id": "65dd47b2-5bdb-4cc6-bb8e-be6a19470a9c",
   "metadata": {
    "tags": []
   },
   "outputs": [
    {
     "data": {
      "text/plain": [
       "17"
      ]
     },
     "execution_count": 5,
     "metadata": {},
     "output_type": "execute_result"
    }
   ],
   "source": [
    "(3*4)+5\n",
    " #This a simple arithmetic expression to mutiply then add integers"
   ]
  },
  {
   "cell_type": "code",
   "execution_count": 6,
   "id": "7743b3f4-99a8-4758-95c0-9333eda2b267",
   "metadata": {
    "tags": []
   },
   "outputs": [
    {
     "data": {
      "text/plain": [
       "(3, 20)"
      ]
     },
     "execution_count": 6,
     "metadata": {},
     "output_type": "execute_result"
    }
   ],
   "source": [
    "divmod(200, 60)\n",
    "#This will convert 200 minutes to hours by diving by 60\n"
   ]
  },
  {
   "cell_type": "markdown",
   "id": "d2e36f8c-39ca-42f6-be1e-95a76e06e806",
   "metadata": {},
   "source": [
    "## Author\n",
    "### Chodamani Harshit\n"
   ]
  },
  {
   "cell_type": "code",
   "execution_count": null,
   "id": "da6363cd-cf2b-464d-a7c8-440ee43ea8c6",
   "metadata": {},
   "outputs": [],
   "source": []
  }
 ],
 "metadata": {
  "kernelspec": {
   "display_name": "Python",
   "language": "python",
   "name": "conda-env-python-py"
  },
  "language_info": {
   "codemirror_mode": {
    "name": "ipython",
    "version": 3
   },
   "file_extension": ".py",
   "mimetype": "text/x-python",
   "name": "python",
   "nbconvert_exporter": "python",
   "pygments_lexer": "ipython3",
   "version": "3.7.12"
  }
 },
 "nbformat": 4,
 "nbformat_minor": 5
}
